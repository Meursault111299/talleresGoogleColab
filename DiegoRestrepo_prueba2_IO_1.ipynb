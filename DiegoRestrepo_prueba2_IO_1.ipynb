{
  "nbformat": 4,
  "nbformat_minor": 0,
  "metadata": {
    "colab": {
      "provenance": [],
      "authorship_tag": "ABX9TyNQ3rJZ/dyNTWu42P+5PUJ3",
      "include_colab_link": true
    },
    "kernelspec": {
      "name": "python3",
      "display_name": "Python 3"
    },
    "language_info": {
      "name": "python"
    }
  },
  "cells": [
    {
      "cell_type": "markdown",
      "metadata": {
        "id": "view-in-github",
        "colab_type": "text"
      },
      "source": [
        "<a href=\"https://colab.research.google.com/github/Meursault111299/talleresGoogleColab/blob/main/DiegoRestrepo_prueba2_IO_1.ipynb\" target=\"_parent\"><img src=\"https://colab.research.google.com/assets/colab-badge.svg\" alt=\"Open In Colab\"/></a>"
      ]
    },
    {
      "cell_type": "code",
      "execution_count": null,
      "metadata": {
        "id": "MQCfHf4E44MP"
      },
      "outputs": [],
      "source": []
    },
    {
      "cell_type": "markdown",
      "source": [
        "# Primer ejercicio \n",
        "## Esto un subtìtulo\n",
        "Esto es texto normal \n"
      ],
      "metadata": {
        "id": "uSHCkAOY5FNC"
      }
    },
    {
      "cell_type": "code",
      "source": [
        "print(\"hola mundo\")"
      ],
      "metadata": {
        "colab": {
          "base_uri": "https://localhost:8080/",
          "height": 131
        },
        "id": "YXoVu8d55R0D",
        "outputId": "d4fbebac-3e39-4db6-afad-5cdce80f8156"
      },
      "execution_count": 3,
      "outputs": [
        {
          "output_type": "error",
          "ename": "SyntaxError",
          "evalue": "ignored",
          "traceback": [
            "\u001b[0;36m  File \u001b[0;32m\"<ipython-input-3-d707798636f1>\"\u001b[0;36m, line \u001b[0;32m1\u001b[0m\n\u001b[0;31m    1 print(\"hola mundo\")\u001b[0m\n\u001b[0m      ^\u001b[0m\n\u001b[0;31mSyntaxError\u001b[0m\u001b[0;31m:\u001b[0m invalid syntax\n"
          ]
        }
      ]
    },
    {
      "cell_type": "markdown",
      "source": [
        "# Segundo ejercicio "
      ],
      "metadata": {
        "id": "60Gwg2Vo45Kj"
      }
    },
    {
      "cell_type": "code",
      "source": [
        "print(\"buenos dias mundo\")"
      ],
      "metadata": {
        "id": "NxojHNLV5r7a"
      },
      "execution_count": null,
      "outputs": []
    }
  ]
}